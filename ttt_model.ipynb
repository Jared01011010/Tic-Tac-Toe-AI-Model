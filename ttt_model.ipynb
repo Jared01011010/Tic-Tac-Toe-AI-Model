{
 "cells": [
  {
   "cell_type": "code",
   "execution_count": 1,
   "metadata": {},
   "outputs": [],
   "source": [
    "import torch\n",
    "\n",
    "data = torch.load('ttt_data_tensors.pt')"
   ]
  },
  {
   "cell_type": "code",
   "execution_count": 2,
   "metadata": {},
   "outputs": [],
   "source": [
    "X = data['X']\n",
    "y = data['y']"
   ]
  },
  {
   "cell_type": "code",
   "execution_count": 3,
   "metadata": {},
   "outputs": [
    {
     "data": {
      "text/plain": [
       "torch.Size([209088, 9])"
      ]
     },
     "execution_count": 3,
     "metadata": {},
     "output_type": "execute_result"
    }
   ],
   "source": [
    "X.shape"
   ]
  },
  {
   "cell_type": "code",
   "execution_count": 5,
   "metadata": {},
   "outputs": [
    {
     "name": "stdout",
     "output_type": "stream",
     "text": [
      "X: torch.Size([209088, 9])/torch.float32 | y: torch.Size([209088])/torch.int64\n"
     ]
    }
   ],
   "source": [
    "print(f'X: {X.shape}/{X.dtype} | y: {y.shape}/{y.dtype}')"
   ]
  },
  {
   "cell_type": "code",
   "execution_count": 18,
   "metadata": {},
   "outputs": [],
   "source": [
    "import torch.nn as nn\n",
    "import torch.optim as optim\n",
    "import matplotlib.pyplot as plt\n",
    "from tqdm import tqdm\n",
    "from torch.utils.data import TensorDataset, DataLoader"
   ]
  },
  {
   "cell_type": "code",
   "execution_count": 7,
   "metadata": {},
   "outputs": [],
   "source": [
    "class NN(nn.Module):\n",
    "    def __init__(self, neurons, num_classes):\n",
    "        super(NN, self).__init__()\n",
    "\n",
    "        self.neurons = neurons\n",
    "\n",
    "        for i in range(len(neurons)):\n",
    "            if i == len(neurons) - 1:\n",
    "                setattr(self, f'fc{i+1}', nn.Linear(neurons[i], num_classes))\n",
    "            else:\n",
    "                setattr(self, f'fc{i+1}', nn.Linear(neurons[i], neurons[i+1]))\n",
    "\n",
    "    def forward(self, x):\n",
    "\n",
    "        for i in range(len(self.neurons)):\n",
    "            if i == len(self.neurons) - 1:\n",
    "                x = getattr(self, f'fc{i+1}')(x)\n",
    "            else:\n",
    "                x = torch.tanh(getattr(self, f'fc{i+1}')(x))\n",
    "\n",
    "        return x"
   ]
  },
  {
   "cell_type": "code",
   "execution_count": 8,
   "metadata": {},
   "outputs": [],
   "source": [
    "def train_model(model, dataloader, criterion, optimizer, device, iterations):\n",
    "    model.to(device)\n",
    "    loss_values = []\n",
    "    acc_values = []\n",
    "\n",
    "    for i in range(iterations):\n",
    "        model.train()\n",
    "        epoch_loss, epoch_total, epoch_correct = 0, 0, 0\n",
    "\n",
    "        for X_batch, y_batch in dataloader:\n",
    "            X_batch, y_batch = X_batch.to(device), y_batch.to(device)\n",
    "            optimizer.zero_grad()\n",
    "            outputs = model(X_batch)\n",
    "            loss = criterion(outputs, y_batch)\n",
    "            loss.backward()\n",
    "            optimizer.step()\n",
    "\n",
    "            _, predicted = torch.max(outputs, 1)\n",
    "            epoch_loss += loss.item()\n",
    "            epoch_correct += (predicted == y_batch).sum().item()\n",
    "            epoch_total += y_batch.size(0)\n",
    "\n",
    "        loss_values.append(epoch_loss / len(dataloader))\n",
    "        acc_values.append(100 * epoch_correct / epoch_total)\n",
    "\n",
    "        # if i == 0 or i %  == 0 or i == iterations - 1:\n",
    "        print(f'Iteration {i}: Loss -> {loss_values[-1]} | Accuracy -> {acc_values[-1]}')\n",
    "\n",
    "    return loss_values, acc_values"
   ]
  },
  {
   "cell_type": "code",
   "execution_count": 9,
   "metadata": {},
   "outputs": [],
   "source": [
    "def evaluate_model(model, X_test, y_test, device):\n",
    "    model.to(device)\n",
    "    model.eval()\n",
    "\n",
    "    with torch.no_grad():\n",
    "        outputs = model(X_test)\n",
    "        _, predicted = torch.max(outputs, 1)\n",
    "        \n",
    "        correct = (predicted == y_test).sum().item()\n",
    "        total = y_test.size(0)\n",
    "        accuracy = 100 * correct / total\n",
    "\n",
    "    return accuracy"
   ]
  },
  {
   "cell_type": "code",
   "execution_count": 10,
   "metadata": {},
   "outputs": [],
   "source": [
    "def plot_results(loss_values, acc_values):\n",
    "\n",
    "    fig, axes = plt.subplots(1, 2, figsize=(12, 5))\n",
    "\n",
    "    axes[0].plot(loss_values, label='Loss', color='blue')\n",
    "    axes[0].set_title('Training Loss')\n",
    "    axes[0].set_xlabel('Iteration')\n",
    "    axes[0].set_ylabel('Loss')\n",
    "    axes[0].legend()\n",
    "\n",
    "    axes[1].plot(acc_values, label='Accuracy', color='green')\n",
    "    axes[1].set_title('Training Accuracy')\n",
    "    axes[1].set_xlabel('Iteration')\n",
    "    axes[1].set_ylabel('Accuracy %')\n",
    "    axes[1].legend()\n",
    "\n",
    "    plt.show()"
   ]
  },
  {
   "cell_type": "code",
   "execution_count": 11,
   "metadata": {},
   "outputs": [],
   "source": [
    "# def FullNN(model, X_train, X_test, y_train, y_test, optimizer, criterion, device, iterations):\n",
    "#     loss, acc = train_model(model, X_train, y_train, criterion, optimizer, device, iterations)\n",
    "#     test_acc = evaluate_model(model, X_test, y_test, device)\n",
    "#     plot_results(loss, acc)\n",
    "\n",
    "#     print(f'Test accuracy = {test_acc}')\n",
    "#     return test_acc"
   ]
  },
  {
   "cell_type": "code",
   "execution_count": 20,
   "metadata": {},
   "outputs": [],
   "source": [
    "def FullNN_last(model, X, y, optimizer, criterion, device, b_size, iterations):\n",
    "    dataset = TensorDataset(X, y)\n",
    "    dataloader = DataLoader(dataset, batch_size=b_size, shuffle=True)\n",
    "    loss, acc = train_model(model, dataloader, criterion, optimizer, device, iterations)\n",
    "\n",
    "    plot_results(loss, acc)"
   ]
  },
  {
   "cell_type": "code",
   "execution_count": 21,
   "metadata": {},
   "outputs": [],
   "source": [
    "model = NN([X.shape[1], 150, 300, 150], 9)\n",
    "criterion = nn.CrossEntropyLoss()\n",
    "optimizer = optim.Adam(model.parameters(), lr=0.01)\n",
    "device = torch.device('cuda' if torch.cuda.is_available() else 'cpu')"
   ]
  },
  {
   "cell_type": "code",
   "execution_count": 22,
   "metadata": {},
   "outputs": [
    {
     "name": "stdout",
     "output_type": "stream",
     "text": [
      "Iteration 0: Loss -> 0.5349509821819413 | Accuracy -> 78.02025941230487\n",
      "Iteration 1: Loss -> 0.4584766057122731 | Accuracy -> 79.63680364248546\n",
      "Iteration 2: Loss -> 0.44417413763674557 | Accuracy -> 79.66215182124273\n",
      "Iteration 3: Loss -> 0.4330841641841203 | Accuracy -> 79.88406795224977\n",
      "Iteration 4: Loss -> 0.4257632592827483 | Accuracy -> 79.96298209366391\n",
      "Iteration 5: Loss -> 0.42436144213708554 | Accuracy -> 80.05002678298133\n",
      "Iteration 6: Loss -> 0.4209010032264372 | Accuracy -> 79.92902509947965\n",
      "Iteration 7: Loss -> 0.42363194259501435 | Accuracy -> 80.04859198041017\n",
      "Iteration 8: Loss -> 0.4198453584400939 | Accuracy -> 80.01224364860728\n",
      "Iteration 9: Loss -> 0.42076492152715983 | Accuracy -> 80.04141796755434\n",
      "Iteration 10: Loss -> 0.4179314381033729 | Accuracy -> 80.1380280073462\n",
      "Iteration 11: Loss -> 0.41656796907780363 | Accuracy -> 80.04763544536272\n"
     ]
    },
    {
     "data": {
      "image/png": "[encoded data removed]",
      "text/plain": [
       "<Figure size 1200x500 with 2 Axes>"
      ]
     },
     "metadata": {},
     "output_type": "display_data"
    }
   ],
   "source": [
    "FullNN_last(model, X, y, optimizer, criterion, device, 128, 12)"
   ]
  },
  {
   "cell_type": "code",
   "execution_count": 23,
   "metadata": {},
   "outputs": [],
   "source": [
    "torch.save(model.state_dict(), 'ttt_model.pth')"
   ]
  }
 ],
 "metadata": {
  "kernelspec": {
   "display_name": "my_ml_env",
   "language": "python",
   "name": "python3"
  },
  "language_info": {
   "codemirror_mode": {
    "name": "ipython",
    "version": 3
   },
   "file_extension": ".py",
   "mimetype": "text/x-python",
   "name": "python",
   "nbconvert_exporter": "python",
   "pygments_lexer": "ipython3",
   "version": "3.12.6"
  }
 },
 "nbformat": 4,
 "nbformat_minor": 2
}
