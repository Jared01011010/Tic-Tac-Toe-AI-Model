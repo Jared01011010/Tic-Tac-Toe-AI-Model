{
 "cells": [
  {
   "cell_type": "code",
   "execution_count": 9,
   "metadata": {},
   "outputs": [],
   "source": [
    "import pandas as pd\n",
    "\n",
    "df = pd.read_csv(r\"C:\\Users\\jared\\Desktop\\Machine Learning\\ttt_boards.csv\")"
   ]
  },
  {
   "cell_type": "code",
   "execution_count": 10,
   "metadata": {},
   "outputs": [
    {
     "data": {
      "text/html": [
       "<div>\n",
       "<style scoped>\n",
       "    .dataframe tbody tr th:only-of-type {\n",
       "        vertical-align: middle;\n",
       "    }\n",
       "\n",
       "    .dataframe tbody tr th {\n",
       "        vertical-align: top;\n",
       "    }\n",
       "\n",
       "    .dataframe thead th {\n",
       "        text-align: right;\n",
       "    }\n",
       "</style>\n",
       "<table border=\"1\" class=\"dataframe\">\n",
       "  <thead>\n",
       "    <tr style=\"text-align: right;\">\n",
       "      <th></th>\n",
       "      <th>Winner</th>\n",
       "      <th>Move 1-X (Row-Col)</th>\n",
       "      <th>Move 2-O (Row-Col)</th>\n",
       "      <th>Move 3-X (Row-Col)</th>\n",
       "      <th>Move 4-O (Row-Col)</th>\n",
       "      <th>Move 5-X (Row-Col)</th>\n",
       "      <th>Move 6-O (Row-Col)</th>\n",
       "      <th>Move 7-X (Row-Col)</th>\n",
       "      <th>Move 8-O (Row-Col)</th>\n",
       "      <th>Move 9-X (Row-Col)</th>\n",
       "    </tr>\n",
       "  </thead>\n",
       "  <tbody>\n",
       "    <tr>\n",
       "      <th>0</th>\n",
       "      <td>X</td>\n",
       "      <td>0-0</td>\n",
       "      <td>0-1</td>\n",
       "      <td>1-0</td>\n",
       "      <td>0-2</td>\n",
       "      <td>2-0</td>\n",
       "      <td>---</td>\n",
       "      <td>---</td>\n",
       "      <td>---</td>\n",
       "      <td>---</td>\n",
       "    </tr>\n",
       "    <tr>\n",
       "      <th>1</th>\n",
       "      <td>X</td>\n",
       "      <td>0-0</td>\n",
       "      <td>0-1</td>\n",
       "      <td>1-0</td>\n",
       "      <td>1-1</td>\n",
       "      <td>2-0</td>\n",
       "      <td>---</td>\n",
       "      <td>---</td>\n",
       "      <td>---</td>\n",
       "      <td>---</td>\n",
       "    </tr>\n",
       "    <tr>\n",
       "      <th>2</th>\n",
       "      <td>X</td>\n",
       "      <td>0-0</td>\n",
       "      <td>0-1</td>\n",
       "      <td>1-0</td>\n",
       "      <td>1-2</td>\n",
       "      <td>2-0</td>\n",
       "      <td>---</td>\n",
       "      <td>---</td>\n",
       "      <td>---</td>\n",
       "      <td>---</td>\n",
       "    </tr>\n",
       "    <tr>\n",
       "      <th>3</th>\n",
       "      <td>X</td>\n",
       "      <td>0-0</td>\n",
       "      <td>0-1</td>\n",
       "      <td>1-0</td>\n",
       "      <td>2-1</td>\n",
       "      <td>2-0</td>\n",
       "      <td>---</td>\n",
       "      <td>---</td>\n",
       "      <td>---</td>\n",
       "      <td>---</td>\n",
       "    </tr>\n",
       "    <tr>\n",
       "      <th>4</th>\n",
       "      <td>X</td>\n",
       "      <td>0-0</td>\n",
       "      <td>0-1</td>\n",
       "      <td>1-0</td>\n",
       "      <td>2-2</td>\n",
       "      <td>2-0</td>\n",
       "      <td>---</td>\n",
       "      <td>---</td>\n",
       "      <td>---</td>\n",
       "      <td>---</td>\n",
       "    </tr>\n",
       "  </tbody>\n",
       "</table>\n",
       "</div>"
      ],
      "text/plain": [
       "  Winner Move 1-X (Row-Col) Move 2-O (Row-Col) Move 3-X (Row-Col)  \\\n",
       "0      X                0-0                0-1                1-0   \n",
       "1      X                0-0                0-1                1-0   \n",
       "2      X                0-0                0-1                1-0   \n",
       "3      X                0-0                0-1                1-0   \n",
       "4      X                0-0                0-1                1-0   \n",
       "\n",
       "  Move 4-O (Row-Col) Move 5-X (Row-Col) Move 6-O (Row-Col) Move 7-X (Row-Col)  \\\n",
       "0                0-2                2-0                ---                ---   \n",
       "1                1-1                2-0                ---                ---   \n",
       "2                1-2                2-0                ---                ---   \n",
       "3                2-1                2-0                ---                ---   \n",
       "4                2-2                2-0                ---                ---   \n",
       "\n",
       "  Move 8-O (Row-Col) Move 9-X (Row-Col)  \n",
       "0                ---                ---  \n",
       "1                ---                ---  \n",
       "2                ---                ---  \n",
       "3                ---                ---  \n",
       "4                ---                ---  "
      ]
     },
     "execution_count": 10,
     "metadata": {},
     "output_type": "execute_result"
    }
   ],
   "source": [
    "df.head()"
   ]
  },
  {
   "cell_type": "code",
   "execution_count": 11,
   "metadata": {},
   "outputs": [],
   "source": [
    "df = df.replace('---', 0)"
   ]
  },
  {
   "cell_type": "code",
   "execution_count": 12,
   "metadata": {},
   "outputs": [
    {
     "data": {
      "text/html": [
       "<div>\n",
       "<style scoped>\n",
       "    .dataframe tbody tr th:only-of-type {\n",
       "        vertical-align: middle;\n",
       "    }\n",
       "\n",
       "    .dataframe tbody tr th {\n",
       "        vertical-align: top;\n",
       "    }\n",
       "\n",
       "    .dataframe thead th {\n",
       "        text-align: right;\n",
       "    }\n",
       "</style>\n",
       "<table border=\"1\" class=\"dataframe\">\n",
       "  <thead>\n",
       "    <tr style=\"text-align: right;\">\n",
       "      <th></th>\n",
       "      <th>Winner</th>\n",
       "      <th>Move 1-X (Row-Col)</th>\n",
       "      <th>Move 2-O (Row-Col)</th>\n",
       "      <th>Move 3-X (Row-Col)</th>\n",
       "      <th>Move 4-O (Row-Col)</th>\n",
       "      <th>Move 5-X (Row-Col)</th>\n",
       "      <th>Move 6-O (Row-Col)</th>\n",
       "      <th>Move 7-X (Row-Col)</th>\n",
       "      <th>Move 8-O (Row-Col)</th>\n",
       "      <th>Move 9-X (Row-Col)</th>\n",
       "    </tr>\n",
       "  </thead>\n",
       "  <tbody>\n",
       "    <tr>\n",
       "      <th>0</th>\n",
       "      <td>X</td>\n",
       "      <td>0-0</td>\n",
       "      <td>0-1</td>\n",
       "      <td>1-0</td>\n",
       "      <td>0-2</td>\n",
       "      <td>2-0</td>\n",
       "      <td>0</td>\n",
       "      <td>0</td>\n",
       "      <td>0</td>\n",
       "      <td>0</td>\n",
       "    </tr>\n",
       "    <tr>\n",
       "      <th>1</th>\n",
       "      <td>X</td>\n",
       "      <td>0-0</td>\n",
       "      <td>0-1</td>\n",
       "      <td>1-0</td>\n",
       "      <td>1-1</td>\n",
       "      <td>2-0</td>\n",
       "      <td>0</td>\n",
       "      <td>0</td>\n",
       "      <td>0</td>\n",
       "      <td>0</td>\n",
       "    </tr>\n",
       "    <tr>\n",
       "      <th>2</th>\n",
       "      <td>X</td>\n",
       "      <td>0-0</td>\n",
       "      <td>0-1</td>\n",
       "      <td>1-0</td>\n",
       "      <td>1-2</td>\n",
       "      <td>2-0</td>\n",
       "      <td>0</td>\n",
       "      <td>0</td>\n",
       "      <td>0</td>\n",
       "      <td>0</td>\n",
       "    </tr>\n",
       "    <tr>\n",
       "      <th>3</th>\n",
       "      <td>X</td>\n",
       "      <td>0-0</td>\n",
       "      <td>0-1</td>\n",
       "      <td>1-0</td>\n",
       "      <td>2-1</td>\n",
       "      <td>2-0</td>\n",
       "      <td>0</td>\n",
       "      <td>0</td>\n",
       "      <td>0</td>\n",
       "      <td>0</td>\n",
       "    </tr>\n",
       "    <tr>\n",
       "      <th>4</th>\n",
       "      <td>X</td>\n",
       "      <td>0-0</td>\n",
       "      <td>0-1</td>\n",
       "      <td>1-0</td>\n",
       "      <td>2-2</td>\n",
       "      <td>2-0</td>\n",
       "      <td>0</td>\n",
       "      <td>0</td>\n",
       "      <td>0</td>\n",
       "      <td>0</td>\n",
       "    </tr>\n",
       "  </tbody>\n",
       "</table>\n",
       "</div>"
      ],
      "text/plain": [
       "  Winner Move 1-X (Row-Col) Move 2-O (Row-Col) Move 3-X (Row-Col)  \\\n",
       "0      X                0-0                0-1                1-0   \n",
       "1      X                0-0                0-1                1-0   \n",
       "2      X                0-0                0-1                1-0   \n",
       "3      X                0-0                0-1                1-0   \n",
       "4      X                0-0                0-1                1-0   \n",
       "\n",
       "  Move 4-O (Row-Col) Move 5-X (Row-Col) Move 6-O (Row-Col) Move 7-X (Row-Col)  \\\n",
       "0                0-2                2-0                  0                  0   \n",
       "1                1-1                2-0                  0                  0   \n",
       "2                1-2                2-0                  0                  0   \n",
       "3                2-1                2-0                  0                  0   \n",
       "4                2-2                2-0                  0                  0   \n",
       "\n",
       "  Move 8-O (Row-Col) Move 9-X (Row-Col)  \n",
       "0                  0                  0  \n",
       "1                  0                  0  \n",
       "2                  0                  0  \n",
       "3                  0                  0  \n",
       "4                  0                  0  "
      ]
     },
     "execution_count": 12,
     "metadata": {},
     "output_type": "execute_result"
    }
   ],
   "source": [
    "df.head()"
   ]
  },
  {
   "cell_type": "code",
   "execution_count": 13,
   "metadata": {},
   "outputs": [],
   "source": [
    "# 0-0 -> (0, 00)\n",
    "cols = ['Move 1-X (Row-Col)', 'Move 2-O (Row-Col)', 'Move 3-X (Row-Col)', 'Move 4-O (Row-Col)', 'Move 5-X (Row-Col)', 'Move 6-O (Row-Col)', 'Move 7-X (Row-Col)', 'Move 8-O (Row-Col)', 'Move 9-X (Row-Col)']\n",
    "\n",
    "for col in cols:\n",
    "    df[col] = df[col].apply(lambda x: tuple(map(int, x.split('-'))) if x != 0 else x)"
   ]
  },
  {
   "cell_type": "code",
   "execution_count": 14,
   "metadata": {},
   "outputs": [
    {
     "data": {
      "text/html": [
       "<div>\n",
       "<style scoped>\n",
       "    .dataframe tbody tr th:only-of-type {\n",
       "        vertical-align: middle;\n",
       "    }\n",
       "\n",
       "    .dataframe tbody tr th {\n",
       "        vertical-align: top;\n",
       "    }\n",
       "\n",
       "    .dataframe thead th {\n",
       "        text-align: right;\n",
       "    }\n",
       "</style>\n",
       "<table border=\"1\" class=\"dataframe\">\n",
       "  <thead>\n",
       "    <tr style=\"text-align: right;\">\n",
       "      <th></th>\n",
       "      <th>Winner</th>\n",
       "      <th>Move 1-X (Row-Col)</th>\n",
       "      <th>Move 2-O (Row-Col)</th>\n",
       "      <th>Move 3-X (Row-Col)</th>\n",
       "      <th>Move 4-O (Row-Col)</th>\n",
       "      <th>Move 5-X (Row-Col)</th>\n",
       "      <th>Move 6-O (Row-Col)</th>\n",
       "      <th>Move 7-X (Row-Col)</th>\n",
       "      <th>Move 8-O (Row-Col)</th>\n",
       "      <th>Move 9-X (Row-Col)</th>\n",
       "    </tr>\n",
       "  </thead>\n",
       "  <tbody>\n",
       "    <tr>\n",
       "      <th>0</th>\n",
       "      <td>X</td>\n",
       "      <td>(0, 0)</td>\n",
       "      <td>(0, 1)</td>\n",
       "      <td>(1, 0)</td>\n",
       "      <td>(0, 2)</td>\n",
       "      <td>(2, 0)</td>\n",
       "      <td>0</td>\n",
       "      <td>0</td>\n",
       "      <td>0</td>\n",
       "      <td>0</td>\n",
       "    </tr>\n",
       "    <tr>\n",
       "      <th>1</th>\n",
       "      <td>X</td>\n",
       "      <td>(0, 0)</td>\n",
       "      <td>(0, 1)</td>\n",
       "      <td>(1, 0)</td>\n",
       "      <td>(1, 1)</td>\n",
       "      <td>(2, 0)</td>\n",
       "      <td>0</td>\n",
       "      <td>0</td>\n",
       "      <td>0</td>\n",
       "      <td>0</td>\n",
       "    </tr>\n",
       "    <tr>\n",
       "      <th>2</th>\n",
       "      <td>X</td>\n",
       "      <td>(0, 0)</td>\n",
       "      <td>(0, 1)</td>\n",
       "      <td>(1, 0)</td>\n",
       "      <td>(1, 2)</td>\n",
       "      <td>(2, 0)</td>\n",
       "      <td>0</td>\n",
       "      <td>0</td>\n",
       "      <td>0</td>\n",
       "      <td>0</td>\n",
       "    </tr>\n",
       "    <tr>\n",
       "      <th>3</th>\n",
       "      <td>X</td>\n",
       "      <td>(0, 0)</td>\n",
       "      <td>(0, 1)</td>\n",
       "      <td>(1, 0)</td>\n",
       "      <td>(2, 1)</td>\n",
       "      <td>(2, 0)</td>\n",
       "      <td>0</td>\n",
       "      <td>0</td>\n",
       "      <td>0</td>\n",
       "      <td>0</td>\n",
       "    </tr>\n",
       "    <tr>\n",
       "      <th>4</th>\n",
       "      <td>X</td>\n",
       "      <td>(0, 0)</td>\n",
       "      <td>(0, 1)</td>\n",
       "      <td>(1, 0)</td>\n",
       "      <td>(2, 2)</td>\n",
       "      <td>(2, 0)</td>\n",
       "      <td>0</td>\n",
       "      <td>0</td>\n",
       "      <td>0</td>\n",
       "      <td>0</td>\n",
       "    </tr>\n",
       "  </tbody>\n",
       "</table>\n",
       "</div>"
      ],
      "text/plain": [
       "  Winner Move 1-X (Row-Col) Move 2-O (Row-Col) Move 3-X (Row-Col)  \\\n",
       "0      X             (0, 0)             (0, 1)             (1, 0)   \n",
       "1      X             (0, 0)             (0, 1)             (1, 0)   \n",
       "2      X             (0, 0)             (0, 1)             (1, 0)   \n",
       "3      X             (0, 0)             (0, 1)             (1, 0)   \n",
       "4      X             (0, 0)             (0, 1)             (1, 0)   \n",
       "\n",
       "  Move 4-O (Row-Col) Move 5-X (Row-Col) Move 6-O (Row-Col) Move 7-X (Row-Col)  \\\n",
       "0             (0, 2)             (2, 0)                  0                  0   \n",
       "1             (1, 1)             (2, 0)                  0                  0   \n",
       "2             (1, 2)             (2, 0)                  0                  0   \n",
       "3             (2, 1)             (2, 0)                  0                  0   \n",
       "4             (2, 2)             (2, 0)                  0                  0   \n",
       "\n",
       "  Move 8-O (Row-Col) Move 9-X (Row-Col)  \n",
       "0                  0                  0  \n",
       "1                  0                  0  \n",
       "2                  0                  0  \n",
       "3                  0                  0  \n",
       "4                  0                  0  "
      ]
     },
     "execution_count": 14,
     "metadata": {},
     "output_type": "execute_result"
    }
   ],
   "source": [
    "df.head()"
   ]
  },
  {
   "cell_type": "code",
   "execution_count": 15,
   "metadata": {},
   "outputs": [],
   "source": [
    "# Separate data into two versions: one where X wins and another where O wins.\n",
    "df_x = df[df['Winner'] == \"X\"]\n",
    "df_o = df[df['Winner'] == 'O']"
   ]
  },
  {
   "cell_type": "code",
   "execution_count": 16,
   "metadata": {},
   "outputs": [],
   "source": [
    "df_x = df_x.drop(columns='Winner')\n",
    "df_o = df_o.drop(columns='Winner')"
   ]
  },
  {
   "cell_type": "code",
   "execution_count": 17,
   "metadata": {},
   "outputs": [],
   "source": [
    "X_tuples = df_x.values.tolist()\n",
    "O_tuples = df_o.values.tolist()"
   ]
  },
  {
   "cell_type": "code",
   "execution_count": 18,
   "metadata": {},
   "outputs": [
    {
     "data": {
      "text/plain": [
       "[(0, 0), (0, 1), (1, 0), (0, 2), (2, 0), 0, 0, 0, 0]"
      ]
     },
     "execution_count": 18,
     "metadata": {},
     "output_type": "execute_result"
    }
   ],
   "source": [
    "X_tuples[0]"
   ]
  },
  {
   "cell_type": "code",
   "execution_count": 23,
   "metadata": {},
   "outputs": [],
   "source": [
    "# Gets rid of 0s.\n",
    "for i in range(len(X_tuples)):\n",
    "    X_tuples[i] = [x for x in X_tuples[i] if x != 0]\n",
    "\n",
    "for i in range(len(O_tuples)):\n",
    "    O_tuples[i] = [x for x in O_tuples[i] if x != 0]"
   ]
  },
  {
   "cell_type": "code",
   "execution_count": 25,
   "metadata": {},
   "outputs": [
    {
     "data": {
      "text/plain": [
       "[(0, 0), (0, 1), (0, 2), (1, 1), (1, 0), (2, 1)]"
      ]
     },
     "execution_count": 25,
     "metadata": {},
     "output_type": "execute_result"
    }
   ],
   "source": [
    "X_tuples[0]\n",
    "O_tuples[0]"
   ]
  },
  {
   "cell_type": "code",
   "execution_count": 26,
   "metadata": {},
   "outputs": [],
   "source": [
    "# In cases where O wins, in order to win X has to block the last move O\n",
    "# did to win, so we flip the 2 last movements and get rid of the last one then.\n",
    "for i in range(len(O_tuples)):\n",
    "    O_tuples[i][-1], O_tuples[i][-2] = O_tuples[i][-2], O_tuples[i][-1]\n",
    "    O_tuples[i].pop(-1)"
   ]
  },
  {
   "cell_type": "code",
   "execution_count": 27,
   "metadata": {},
   "outputs": [],
   "source": [
    "# Gets the last move which will be the label (best next movement).\n",
    "X_tuples_l = [row[-1] for row in X_tuples]\n",
    "O_tuples_l = [row[-1] for row in O_tuples]"
   ]
  },
  {
   "cell_type": "code",
   "execution_count": 28,
   "metadata": {},
   "outputs": [],
   "source": [
    "# Delete labels from datasets.\n",
    "for i in range(len(X_tuples)):\n",
    "    X_tuples[i].pop(-1)\n",
    "for i in range(len(O_tuples)):\n",
    "    O_tuples[i].pop(-1)"
   ]
  },
  {
   "cell_type": "code",
   "execution_count": 29,
   "metadata": {},
   "outputs": [
    {
     "name": "stdout",
     "output_type": "stream",
     "text": [
      "Board: [(0, 0), (0, 1), (1, 0), (0, 2)] | Next move: (2, 0)\n",
      "Board: [(0, 0), (0, 1), (1, 0), (1, 1)] | Next move: (2, 0)\n",
      "Board: [(0, 0), (0, 1), (1, 0), (1, 2)] | Next move: (2, 0)\n",
      "Board: [(0, 0), (0, 1), (1, 0), (2, 1)] | Next move: (2, 0)\n",
      "Board: [(0, 0), (0, 1), (1, 0), (2, 2)] | Next move: (2, 0)\n",
      "Board: [(0, 0), (0, 1), (1, 1), (0, 2)] | Next move: (2, 2)\n",
      "Board: [(0, 0), (0, 1), (1, 1), (1, 0)] | Next move: (2, 2)\n",
      "Board: [(0, 0), (0, 1), (1, 1), (1, 2)] | Next move: (2, 2)\n",
      "Board: [(0, 0), (0, 1), (1, 1), (2, 0)] | Next move: (2, 2)\n",
      "Board: [(0, 0), (0, 1), (1, 1), (2, 1)] | Next move: (2, 2)\n",
      "Board: [(0, 0), (0, 1), (2, 0), (0, 2)] | Next move: (1, 0)\n",
      "Board: [(0, 0), (0, 1), (2, 0), (1, 1)] | Next move: (1, 0)\n",
      "Board: [(0, 0), (0, 1), (2, 0), (1, 2)] | Next move: (1, 0)\n",
      "Board: [(0, 0), (0, 1), (2, 0), (2, 1)] | Next move: (1, 0)\n",
      "Board: [(0, 0), (0, 1), (2, 0), (2, 2)] | Next move: (1, 0)\n"
     ]
    }
   ],
   "source": [
    "for i in range(15):\n",
    "    print(f'Board: {X_tuples[i]} | Next move: {X_tuples_l[i]}')"
   ]
  },
  {
   "cell_type": "code",
   "execution_count": null,
   "metadata": {},
   "outputs": [],
   "source": [
    "# Convert tuples into indexes.\n",
    "X_coordinates = []\n",
    "\n",
    "for list in X_tuples:\n",
    "    X_coordinates.append([r * 3 + c for r, c in list])\n",
    "\n",
    "O_coordinates = []\n",
    "\n",
    "for list in O_tuples:\n",
    "    O_coordinates.append([r * 3 + c for r, c in list])"
   ]
  },
  {
   "cell_type": "code",
   "execution_count": 32,
   "metadata": {},
   "outputs": [
    {
     "data": {
      "text/plain": [
       "[0, 1, 2, 4]"
      ]
     },
     "execution_count": 32,
     "metadata": {},
     "output_type": "execute_result"
    }
   ],
   "source": [
    "X_coordinates[0]\n",
    "O_coordinates[0]"
   ]
  },
  {
   "cell_type": "code",
   "execution_count": 34,
   "metadata": {},
   "outputs": [],
   "source": [
    "# Convert tuples into indexes.\n",
    "X_coordinates_l = [r * 3 + c for r, c in X_tuples_l]\n",
    "O_coordinates_l = [r * 3 + c for r, c in O_tuples_l]"
   ]
  },
  {
   "cell_type": "code",
   "execution_count": 41,
   "metadata": {},
   "outputs": [
    {
     "data": {
      "text/plain": [
       "6"
      ]
     },
     "execution_count": 41,
     "metadata": {},
     "output_type": "execute_result"
    }
   ],
   "source": [
    "X_coordinates_l[0]"
   ]
  },
  {
   "cell_type": "code",
   "execution_count": 39,
   "metadata": {},
   "outputs": [],
   "source": [
    "# Convert indexes into one-hot encoded vectors from X and O scenarios.\n",
    "X = []\n",
    "\n",
    "for i in range(len(X_coordinates)):\n",
    "    one_hot = [0, 0, 0, 0, 0, 0, 0, 0, 0]\n",
    "    for j, index in enumerate(X_coordinates[i]):\n",
    "        if j % 2 == 0:\n",
    "            one_hot[index] = 1\n",
    "        else:\n",
    "            one_hot[index] = -1\n",
    "    X.append(one_hot)\n",
    "\n",
    "for i in range(len(O_coordinates)):\n",
    "    one_hot = [0, 0, 0, 0, 0, 0, 0, 0, 0]\n",
    "    for j, index in enumerate(O_coordinates[i]):\n",
    "        if j % 2 == 0:\n",
    "            one_hot[index] = 1\n",
    "        else:\n",
    "            one_hot[index] = -1\n",
    "    X.append(one_hot)"
   ]
  },
  {
   "cell_type": "code",
   "execution_count": 40,
   "metadata": {},
   "outputs": [
    {
     "data": {
      "text/plain": [
       "[1, -1, -1, 1, 0, 0, 0, 0, 0]"
      ]
     },
     "execution_count": 40,
     "metadata": {},
     "output_type": "execute_result"
    }
   ],
   "source": [
    "X[0]"
   ]
  },
  {
   "cell_type": "code",
   "execution_count": 42,
   "metadata": {},
   "outputs": [],
   "source": [
    "Y = X_coordinates_l + O_coordinates_l"
   ]
  },
  {
   "cell_type": "code",
   "execution_count": 44,
   "metadata": {},
   "outputs": [
    {
     "name": "stdout",
     "output_type": "stream",
     "text": [
      "Board: [1, 0, -1, 1, 1, 0, -1, 0, -1] | Next move: 5\n",
      "Board: [1, -1, 1, 0, 0, -1, 0, -1, 1] | Next move: 4\n",
      "Board: [0, -1, -1, 1, 1, -1, 1, 0, 0] | Next move: 0\n",
      "Board: [-1, -1, 1, 0, 1, 1, 0, 0, -1] | Next move: 6\n",
      "Board: [1, 1, 0, 0, 0, -1, 1, -1, -1] | Next move: 3\n",
      "Board: [1, -1, 0, -1, -1, 1, -1, 1, 1] | Next move: 2\n",
      "Board: [1, 1, -1, 1, -1, 1, 0, -1, -1] | Next move: 6\n",
      "Board: [-1, -1, 0, 1, 0, 1, 1, -1, 0] | Next move: 4\n",
      "Board: [1, -1, -1, -1, -1, 1, 1, 0, 1] | Next move: 7\n",
      "Board: [-1, 0, -1, 1, -1, 0, 1, 1, 0] | Next move: 8\n",
      "Board: [1, 0, 0, 0, -1, 1, -1, -1, 1] | Next move: 1\n",
      "Board: [1, -1, 1, -1, 0, -1, -1, 1, 1] | Next move: 4\n",
      "Board: [0, 1, -1, 1, -1, -1, 1, -1, 1] | Next move: 0\n",
      "Board: [1, 1, -1, 0, 0, 1, 0, -1, -1] | Next move: 6\n",
      "Board: [1, -1, 0, -1, 0, -1, 1, 1, 0] | Next move: 4\n",
      "Board: [-1, 0, -1, -1, 0, 1, 1, 1, 0] | Next move: 1\n",
      "Board: [1, 1, 0, 0, -1, -1, -1, 1, 0] | Next move: 2\n",
      "Board: [-1, 1, 1, 1, -1, 0, -1, -1, 1] | Next move: 5\n",
      "Board: [0, 1, 1, -1, -1, 1, -1, 1, -1] | Next move: 0\n",
      "Board: [1, -1, 1, -1, 1, -1, 0, 1, -1] | Next move: 6\n"
     ]
    }
   ],
   "source": [
    "import numpy as np\n",
    "random_values = np.random.randint(len(X), size=20)\n",
    "\n",
    "for i in range(len(random_values)):\n",
    "    print(f'Board: {X[random_values[i]]} | Next move: {Y[random_values[i]]}')"
   ]
  },
  {
   "cell_type": "code",
   "execution_count": 45,
   "metadata": {},
   "outputs": [],
   "source": [
    "import torch\n",
    "\n",
    "X_torch = torch.tensor(X, dtype=torch.float32)\n",
    "Y_torch = torch.tensor(Y, dtype=torch.long)"
   ]
  },
  {
   "cell_type": "code",
   "execution_count": 46,
   "metadata": {},
   "outputs": [
    {
     "data": {
      "text/plain": [
       "torch.Size([209088, 9])"
      ]
     },
     "execution_count": 46,
     "metadata": {},
     "output_type": "execute_result"
    }
   ],
   "source": [
    "X_torch.shape"
   ]
  },
  {
   "cell_type": "code",
   "execution_count": 47,
   "metadata": {},
   "outputs": [
    {
     "data": {
      "text/plain": [
       "torch.Size([209088])"
      ]
     },
     "execution_count": 47,
     "metadata": {},
     "output_type": "execute_result"
    }
   ],
   "source": [
    "Y_torch.shape"
   ]
  },
  {
   "cell_type": "code",
   "execution_count": 48,
   "metadata": {},
   "outputs": [],
   "source": [
    "# Shuffles data.\n",
    "perm = torch.randperm(X_torch.size(0))\n",
    "\n",
    "X_shuffled = X_torch[perm]\n",
    "y_shuffled = Y_torch[perm]"
   ]
  },
  {
   "cell_type": "code",
   "execution_count": 49,
   "metadata": {},
   "outputs": [
    {
     "name": "stdout",
     "output_type": "stream",
     "text": [
      "Board: tensor([-1.,  0., -1.,  1.,  1., -1.,  0.,  1.,  0.]) | Next move: 8\n",
      "Board: tensor([ 1., -1., -1.,  1.,  0.,  1., -1.,  1., -1.]) | Next move: 4\n",
      "Board: tensor([ 0., -1.,  1.,  0.,  0.,  1.,  1., -1., -1.]) | Next move: 4\n",
      "Board: tensor([ 1., -1.,  0., -1., -1.,  1.,  0.,  0.,  1.]) | Next move: 2\n",
      "Board: tensor([ 1.,  1., -1., -1.,  1.,  1., -1.,  0., -1.]) | Next move: 7\n",
      "Board: tensor([-1.,  0., -1.,  0.,  1., -1.,  1.,  1.,  0.]) | Next move: 1\n",
      "Board: tensor([ 1., -1., -1.,  1.,  1.,  0.,  0.,  0., -1.]) | Next move: 6\n",
      "Board: tensor([-1.,  1.,  1.,  1., -1.,  0., -1.,  0.,  0.]) | Next move: 8\n",
      "Board: tensor([ 0.,  1.,  0., -1.,  1., -1., -1.,  0.,  1.]) | Next move: 7\n",
      "Board: tensor([ 0.,  0.,  1.,  0., -1., -1.,  1.,  1., -1.]) | Next move: 0\n",
      "Board: tensor([-1., -1.,  1.,  1.,  0.,  0.,  1.,  0., -1.]) | Next move: 4\n",
      "Board: tensor([ 0., -1., -1.,  1.,  1., -1., -1.,  1.,  1.]) | Next move: 0\n",
      "Board: tensor([ 1., -1., -1.,  1.,  0., -1., -1.,  1.,  1.]) | Next move: 4\n",
      "Board: tensor([ 0.,  0.,  0., -1.,  1., -1., -1.,  1.,  1.]) | Next move: 0\n",
      "Board: tensor([ 1., -1., -1.,  0.,  1.,  0., -1.,  1.,  0.]) | Next move: 8\n",
      "Board: tensor([ 0.,  1.,  0.,  1., -1.,  1.,  0., -1., -1.]) | Next move: 0\n",
      "Board: tensor([-1.,  1., -1.,  1., -1., -1.,  0.,  1.,  1.]) | Next move: 6\n",
      "Board: tensor([ 0.,  1., -1., -1., -1.,  0.,  1.,  1.,  0.]) | Next move: 5\n",
      "Board: tensor([-1.,  1., -1., -1.,  0.,  1.,  1.,  1., -1.]) | Next move: 4\n",
      "Board: tensor([ 1., -1., -1.,  1.,  0.,  1., -1., -1.,  1.]) | Next move: 4\n"
     ]
    }
   ],
   "source": [
    "for i in range(len(random_values)):\n",
    "    print(f'Board: {X_shuffled[random_values[i]]} | Next move: {y_shuffled[random_values[i]]}')"
   ]
  },
  {
   "cell_type": "code",
   "execution_count": 50,
   "metadata": {},
   "outputs": [],
   "source": [
    "torch.save({'X': X_shuffled, 'y': y_shuffled}, 'ttt_data_tensors.pt')"
   ]
  },
  {
   "cell_type": "code",
   "execution_count": null,
   "metadata": {},
   "outputs": [],
   "source": []
  }
 ],
 "metadata": {
  "kernelspec": {
   "display_name": "my_ml_env",
   "language": "python",
   "name": "python3"
  },
  "language_info": {
   "codemirror_mode": {
    "name": "ipython",
    "version": 3
   },
   "file_extension": ".py",
   "mimetype": "text/x-python",
   "name": "python",
   "nbconvert_exporter": "python",
   "pygments_lexer": "ipython3",
   "version": "3.12.6"
  }
 },
 "nbformat": 4,
 "nbformat_minor": 2
}
